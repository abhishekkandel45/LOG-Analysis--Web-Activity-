{
 "cells": [
  {
   "cell_type": "code",
   "execution_count": 26,
   "metadata": {},
   "outputs": [
    {
     "name": "stdout",
     "output_type": "stream",
     "text": [
      "/Users/abhishekkandel/Desktop/LOG Analysis\n",
      "/Users/abhishekkandel/Desktop/LOG Analysis\n"
     ]
    }
   ],
   "source": [
    "import os\n",
    "print(os.getcwd())\n",
    "os.chdir('/Users/abhishekkandel/Desktop/LOG Analysis/')\n",
    "print(os.getcwd())\n"
   ]
  },
  {
   "cell_type": "code",
   "execution_count": 27,
   "metadata": {},
   "outputs": [
    {
     "name": "stdout",
     "output_type": "stream",
     "text": [
      "                                                       url\n",
      "0        /filter/27|13%20%D9%85%DA%AF%D8%A7%D9%BE%DB%8C...\n",
      "1                        /image/60844/productModel/200x200\n",
      "2                        /image/61474/productModel/200x200\n",
      "3                        /image/14925/productModel/100x100\n",
      "4        /product/31893/62100/%D8%B3%D8%B4%D9%88%D8%A7%...\n",
      "...                                                    ...\n",
      "1048570                    /image/59941/productModel/50x50\n",
      "1048571                    /image/59948/productModel/50x50\n",
      "1048572                        /image/5/productType/120x90\n",
      "1048573                    /image/60256/productModel/50x50\n",
      "1048574                   /image/2301/productModel/100x100\n",
      "\n",
      "[1048575 rows x 1 columns]\n"
     ]
    }
   ],
   "source": [
    "import pandas as pd\n",
    "\n",
    "file_path = 'Book1.xlsx'\n",
    "df = pd.read_excel(file_path, sheet_name='Sheet1')  \n",
    "print (df)"
   ]
  },
  {
   "cell_type": "code",
   "execution_count": 28,
   "metadata": {},
   "outputs": [
    {
     "name": "stdout",
     "output_type": "stream",
     "text": [
      "                                                       url\n",
      "3697            /event/best-buy-Oven-Washing-Mashine-Snowa\n",
      "3699          /m/event/best-buy-Oven-Washing-Mashine-Snowa\n",
      "4916       /static/images/Icon-Buypage/addToZanbil-box.png\n",
      "5198     /static/images/Icon-Buypage/addToZanbil-box-ho...\n",
      "6720                                     /browse/camcorder\n",
      "...                                                    ...\n",
      "1048418  /rapidGrails/jsonList?maxColumns=16&domainClas...\n",
      "1048472  /rapidGrails/jsonList?maxColumns=16&domainClas...\n",
      "1048477  /rapidGrails/jsonList?maxColumns=16&domainClas...\n",
      "1048486    /static/images/Icon-Buypage/addToZanbil-box.png\n",
      "1048506  /rapidGrails/jsonList?maxColumns=16&domainClas...\n",
      "\n",
      "[23767 rows x 1 columns]\n"
     ]
    }
   ],
   "source": [
    "\n",
    "keywords = ['buy', 'purchase', 'order']\n",
    "\n",
    "contains_keywords = df['url'].str.contains('|'.join(keywords), case=False, na=False)\n",
    "\n",
    "rows_with_keywords = df[contains_keywords]\n",
    "\n",
    "print(rows_with_keywords)\n",
    "\n"
   ]
  },
  {
   "cell_type": "code",
   "execution_count": 29,
   "metadata": {},
   "outputs": [
    {
     "name": "stdout",
     "output_type": "stream",
     "text": [
      "                                                       url  /order/  /buy/  \\\n",
      "12904    /order/create/deliveryMethodForm?price15=20000...     True  False   \n",
      "13415                 /order/track?trackingCode=9711020411     True  False   \n",
      "15599                     /order/onlinePaymentResultMellat     True  False   \n",
      "26722                                         /order/track     True  False   \n",
      "26759                                         /order/track     True  False   \n",
      "...                                                    ...      ...    ...   \n",
      "1041584               /order/track?trackingCode=9711020486     True  False   \n",
      "1042563  /order/track?trackingCode=9711020486&emailOrMo...     True  False   \n",
      "1043377                                       /order/track     True  False   \n",
      "1047808                                        /order/list     True  False   \n",
      "1048017                            /order/track/9710290961     True  False   \n",
      "\n",
      "         /purchase/  \n",
      "12904         False  \n",
      "13415         False  \n",
      "15599         False  \n",
      "26722         False  \n",
      "26759         False  \n",
      "...             ...  \n",
      "1041584       False  \n",
      "1042563       False  \n",
      "1043377       False  \n",
      "1047808       False  \n",
      "1048017       False  \n",
      "\n",
      "[1570 rows x 4 columns]\n"
     ]
    }
   ],
   "source": [
    "\n",
    "keywords1 = ['/order/', '/buy/', '/purchase/']\n",
    "\n",
    "for keyword1 in keywords1:\n",
    "    df[keyword1] = df['url'].str.contains(keyword1, case=False, na=False)\n",
    "\n",
    "filtered_df = df[df[keywords1].any(axis=1)]\n",
    "\n",
    "print(filtered_df)\n",
    "\n",
    "filtered_df.to_excel('filtered_rows_with_keywords.xlsx', index=False)"
   ]
  }
 ],
 "metadata": {
  "kernelspec": {
   "display_name": "Python 3 (ipykernel)",
   "language": "python",
   "name": "python3"
  },
  "language_info": {
   "codemirror_mode": {
    "name": "ipython",
    "version": 3
   },
   "file_extension": ".py",
   "mimetype": "text/x-python",
   "name": "python",
   "nbconvert_exporter": "python",
   "pygments_lexer": "ipython3",
   "version": "3.12.4"
  }
 },
 "nbformat": 4,
 "nbformat_minor": 2
}
